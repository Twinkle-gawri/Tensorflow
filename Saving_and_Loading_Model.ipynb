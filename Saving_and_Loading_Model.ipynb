{
  "nbformat": 4,
  "nbformat_minor": 0,
  "metadata": {
    "colab": {
      "provenance": [],
      "authorship_tag": "ABX9TyON9t+RPPnLHptPHfpjh/PE",
      "include_colab_link": true
    },
    "kernelspec": {
      "name": "python3",
      "display_name": "Python 3"
    },
    "language_info": {
      "name": "python"
    }
  },
  "cells": [
    {
      "cell_type": "markdown",
      "metadata": {
        "id": "view-in-github",
        "colab_type": "text"
      },
      "source": [
        "<a href=\"https://colab.research.google.com/github/Twinkle-gawri/Tensorflow/blob/main/Saving_and_Loading_Model.ipynb\" target=\"_parent\"><img src=\"https://colab.research.google.com/assets/colab-badge.svg\" alt=\"Open In Colab\"/></a>"
      ]
    },
    {
      "cell_type": "markdown",
      "source": [
        "* Saving weights -- model.save_weights('/content/drive/My Drive/ FILE_NAME**.weights.h5**')\n",
        "* Loading weights -- model.load_weights('/content/drive/MyDrive/ FILE_NAME**.weights.h5**')\n",
        "* Saving Whole Model -- model.save('/content/drive/MyDrive/ FILE_NAME**.keras**')\n",
        "* Loading Whole Model --**keras.models.load_model**('/content/drive/MyDrive/FILE_NAME**.keras**')"
      ],
      "metadata": {
        "id": "GKhqgT959the"
      }
    },
    {
      "cell_type": "code",
      "execution_count": 1,
      "metadata": {
        "id": "XSgHvAcx09LM"
      },
      "outputs": [],
      "source": [
        "import tensorflow as tf\n",
        "from tensorflow import keras\n",
        "from tensorflow.keras import layers\n",
        "from tensorflow.keras.datasets import mnist"
      ]
    },
    {
      "cell_type": "code",
      "source": [
        "(x_train, y_train), (x_test, y_test) = mnist.load_data()\n",
        "x_train = x_train.reshape(-1, 28 * 28).astype(\"float32\") / 255.0\n",
        "x_test = x_test.reshape(-1, 28 * 28).astype(\"float32\") / 255.0"
      ],
      "metadata": {
        "colab": {
          "base_uri": "https://localhost:8080/"
        },
        "id": "E2cIBoMC16-A",
        "outputId": "01d7140c-4cb9-45b2-df72-3865db36e083"
      },
      "execution_count": 2,
      "outputs": [
        {
          "output_type": "stream",
          "name": "stdout",
          "text": [
            "Downloading data from https://storage.googleapis.com/tensorflow/tf-keras-datasets/mnist.npz\n",
            "\u001b[1m11490434/11490434\u001b[0m \u001b[32m━━━━━━━━━━━━━━━━━━━━\u001b[0m\u001b[37m\u001b[0m \u001b[1m0s\u001b[0m 0us/step\n"
          ]
        }
      ]
    },
    {
      "cell_type": "code",
      "source": [
        "model = keras.Sequential(\n",
        "    [\n",
        "        layers.Dense(64, activation=\"relu\"),\n",
        "        layers.Dense(10)\n",
        "    ])"
      ],
      "metadata": {
        "id": "8XTV7uJ82HDo"
      },
      "execution_count": 3,
      "outputs": []
    },
    {
      "cell_type": "code",
      "source": [
        "model.compile(\n",
        "    loss=keras.losses.SparseCategoricalCrossentropy(from_logits=True),\n",
        "    optimizer=keras.optimizers.Adam(),\n",
        "    metrics=[\"accuracy\"],\n",
        ")\n",
        "\n",
        "model.fit(x_train, y_train, batch_size=32, epochs=2, verbose=2)"
      ],
      "metadata": {
        "colab": {
          "base_uri": "https://localhost:8080/"
        },
        "id": "ABAr3FCG2Ngc",
        "outputId": "d2c5dd6a-0289-4d7e-e192-6505468e5c7f"
      },
      "execution_count": 4,
      "outputs": [
        {
          "output_type": "stream",
          "name": "stdout",
          "text": [
            "Epoch 1/2\n",
            "1875/1875 - 7s - 3ms/step - accuracy: 0.9144 - loss: 0.3039\n",
            "Epoch 2/2\n",
            "1875/1875 - 10s - 5ms/step - accuracy: 0.9575 - loss: 0.1461\n"
          ]
        },
        {
          "output_type": "execute_result",
          "data": {
            "text/plain": [
              "<keras.src.callbacks.history.History at 0x7839901ce950>"
            ]
          },
          "metadata": {},
          "execution_count": 4
        }
      ]
    },
    {
      "cell_type": "code",
      "source": [
        "from google.colab import drive\n",
        "\n",
        "# Mount Google Drive\n",
        "drive.mount('/content/drive')"
      ],
      "metadata": {
        "colab": {
          "base_uri": "https://localhost:8080/"
        },
        "id": "_85Bkkkt4iJF",
        "outputId": "72658c3b-1f55-4df2-86f5-ad5514e1fef8"
      },
      "execution_count": 8,
      "outputs": [
        {
          "output_type": "stream",
          "name": "stdout",
          "text": [
            "Mounted at /content/drive\n"
          ]
        }
      ]
    },
    {
      "cell_type": "markdown",
      "source": [
        "Here .weights.h5 should be present at the end\n",
        "\n",
        "\n",
        "# **Saving Weights**\n",
        "\n",
        "**What Gets Saved in Weights?**\n",
        "* Weights (trainable parameters of layers)\n",
        "*  Biases\n",
        "\n",
        "**What Is NOT Saved?**\n",
        "*  Model architecture (layers, shapes, connections)\n",
        "* Optimizer state (learning rate, momentum, Adam states, etc.)\n",
        "* Loss function & metrics"
      ],
      "metadata": {
        "id": "ipL3WMwY5Pmg"
      }
    },
    {
      "cell_type": "code",
      "source": [
        "# How to save model weights\n",
        "model.save_weights('/content/drive/My Drive/ModelWeights.weights.h5')"
      ],
      "metadata": {
        "id": "NeYc5lHI2QaR"
      },
      "execution_count": 10,
      "outputs": []
    },
    {
      "cell_type": "code",
      "source": [
        "# How to load model weights\n",
        "model.load_weights('/content/drive/MyDrive/ModelWeights.weights.h5')"
      ],
      "metadata": {
        "id": "IATrV_qe2ji4"
      },
      "execution_count": 12,
      "outputs": []
    },
    {
      "cell_type": "code",
      "source": [
        "model.compile(\n",
        "    loss=keras.losses.SparseCategoricalCrossentropy(from_logits=True),\n",
        "    optimizer=keras.optimizers.Adam(),\n",
        "    metrics=[\"accuracy\"],\n",
        ")\n",
        "\n",
        "model.fit(x_train, y_train, batch_size=32, epochs=2, verbose=2)"
      ],
      "metadata": {
        "colab": {
          "base_uri": "https://localhost:8080/"
        },
        "id": "aFoZf7Yz5JSU",
        "outputId": "44625f23-86c9-4543-d25d-d23596630b4b"
      },
      "execution_count": 13,
      "outputs": [
        {
          "output_type": "stream",
          "name": "stdout",
          "text": [
            "Epoch 1/2\n",
            "1875/1875 - 5s - 3ms/step - accuracy: 0.9687 - loss: 0.1071\n",
            "Epoch 2/2\n",
            "1875/1875 - 6s - 3ms/step - accuracy: 0.9760 - loss: 0.0819\n"
          ]
        },
        {
          "output_type": "execute_result",
          "data": {
            "text/plain": [
              "<keras.src.callbacks.history.History at 0x78398bc44050>"
            ]
          },
          "metadata": {},
          "execution_count": 13
        }
      ]
    },
    {
      "cell_type": "code",
      "source": [
        "model.evaluate(x_test,y_test)"
      ],
      "metadata": {
        "colab": {
          "base_uri": "https://localhost:8080/"
        },
        "id": "ztZYXnuC7qkR",
        "outputId": "aa01d7ac-569e-44f3-ab8a-5be69e65c31e"
      },
      "execution_count": 14,
      "outputs": [
        {
          "output_type": "stream",
          "name": "stdout",
          "text": [
            "\u001b[1m313/313\u001b[0m \u001b[32m━━━━━━━━━━━━━━━━━━━━\u001b[0m\u001b[37m\u001b[0m \u001b[1m1s\u001b[0m 2ms/step - accuracy: 0.9683 - loss: 0.1062\n"
          ]
        },
        {
          "output_type": "execute_result",
          "data": {
            "text/plain": [
              "[0.09451696276664734, 0.9708999991416931]"
            ]
          },
          "metadata": {},
          "execution_count": 14
        }
      ]
    },
    {
      "cell_type": "markdown",
      "source": [
        "# **Saving Model**\n",
        "\n",
        "* Model architecture (layers & connections)\n",
        "* Model weights (trainable parameters)\n",
        "* Training configuration (loss, optimizer, metrics)\n",
        "* Optimizer state (for resuming training)"
      ],
      "metadata": {
        "id": "pWnJNyZ3879c"
      }
    },
    {
      "cell_type": "code",
      "source": [
        "model.save('/content/drive/MyDrive/SaveModel.keras')"
      ],
      "metadata": {
        "id": "TRF_I0xd7zfj"
      },
      "execution_count": 15,
      "outputs": []
    },
    {
      "cell_type": "code",
      "source": [
        "loaded_model=keras.models.load_model('/content/drive/MyDrive/SaveModel.keras')"
      ],
      "metadata": {
        "id": "pXDX-1dI9Xio"
      },
      "execution_count": 18,
      "outputs": []
    }
  ]
}